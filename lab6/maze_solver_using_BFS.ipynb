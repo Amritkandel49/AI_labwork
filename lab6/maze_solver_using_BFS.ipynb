{
 "cells": [
  {
   "cell_type": "markdown",
   "id": "205139b9",
   "metadata": {},
   "source": [
    "# Import Required Libraries\n",
    "Import necessary libraries such as NumPy and Matplotlib."
   ]
  },
  {
   "cell_type": "code",
   "execution_count": 24,
   "id": "4ea82df3",
   "metadata": {},
   "outputs": [],
   "source": [
    "# Import Required Libraries\n",
    "import numpy as np\n",
    "import matplotlib.pyplot as plt"
   ]
  },
  {
   "cell_type": "markdown",
   "id": "d231f7c7",
   "metadata": {},
   "source": [
    "# Define the Maze\n",
    "Define the maze as a 2D NumPy array with 'S' for start, 'G' for goal, and integers for paths and walls."
   ]
  },
  {
   "cell_type": "code",
   "execution_count": 25,
   "id": "7b879a62",
   "metadata": {},
   "outputs": [],
   "source": [
    "# Define the Maze\n",
    "maze = np.array([\n",
    "    ['S', 0, 0, 0, 1, 1, 1, 1, 1, 1],\n",
    "    [1, 1, 1, 0, 1, 1, 0, 0, 0, 0],\n",
    "    [1, 0, 0, 0, 0, 0, 0, 1, 1, 0],\n",
    "    [1, 1, 1, 1, 1, 1, 0, 1, 1, 0],\n",
    "    [1, 0, 0, 0, 0, 0, 0, 1, 1, 1],\n",
    "    [1, 0, 1, 1, 1, 1, 1, 1, 1, 1],\n",
    "    [1, 0, 0, 0, 0, 0, 0, 0, 1, 1],\n",
    "    [0, 1, 1, 1, 1, 1, 1, 0, 0, 1],\n",
    "    [0, 0, 0, 0, 0, 0, 1, 1, 0, 1],\n",
    "    [1, 1, 1, 1, 1, 0, 0, 1, 0, 'G']\n",
    "])"
   ]
  },
  {
   "cell_type": "markdown",
   "id": "ad028673",
   "metadata": {},
   "source": [
    "# Convert Maze to Numeric Grid\n",
    "Create a function to convert the maze into a numeric grid where 'S' becomes 2 and 'G' becomes 3."
   ]
  },
  {
   "cell_type": "code",
   "execution_count": 26,
   "id": "e557b815",
   "metadata": {},
   "outputs": [
    {
     "data": {
      "text/plain": [
       "array([[2, 0, 0, 0, 1, 1, 1, 1, 1, 1],\n",
       "       [1, 1, 1, 0, 1, 1, 0, 0, 0, 0],\n",
       "       [1, 0, 0, 0, 0, 0, 0, 1, 1, 0],\n",
       "       [1, 1, 1, 1, 1, 1, 0, 1, 1, 0],\n",
       "       [1, 0, 0, 0, 0, 0, 0, 1, 1, 1],\n",
       "       [1, 0, 1, 1, 1, 1, 1, 1, 1, 1],\n",
       "       [1, 0, 0, 0, 0, 0, 0, 0, 1, 1],\n",
       "       [0, 1, 1, 1, 1, 1, 1, 0, 0, 1],\n",
       "       [0, 0, 0, 0, 0, 0, 1, 1, 0, 1],\n",
       "       [1, 1, 1, 1, 1, 0, 0, 1, 0, 3]])"
      ]
     },
     "execution_count": 26,
     "metadata": {},
     "output_type": "execute_result"
    }
   ],
   "source": [
    "# Convert Maze to Numeric Grid\n",
    "def to_numeric_grid(maze):\n",
    "    maze = np.array(maze)\n",
    "    for i in range(len(maze)):\n",
    "        for j in range(len(maze[i])):\n",
    "            if maze[i][j] == 'S':\n",
    "                maze[i][j] = 2\n",
    "            elif maze[i][j] == 'G':\n",
    "                maze[i][j] = 3\n",
    "            else:\n",
    "                maze[i][j] = maze[i][j]\n",
    "    return maze.astype(int)\n",
    "\n",
    "numeric_maze = to_numeric_grid(maze)\n",
    "numeric_maze"
   ]
  },
  {
   "cell_type": "markdown",
   "id": "11cc2da4",
   "metadata": {},
   "source": [
    "# Find Positions of Start and Goal\n",
    "Implement a function to find the positions of 'S' and 'G' in the maze."
   ]
  },
  {
   "cell_type": "code",
   "execution_count": 27,
   "id": "90cd2b04",
   "metadata": {},
   "outputs": [
    {
     "name": "stdout",
     "output_type": "stream",
     "text": [
      "Start Position: (0, 0)\n",
      "Goal Position: (9, 9)\n"
     ]
    }
   ],
   "source": [
    "# Find Positions of Start and Goal\n",
    "def find_pos(maze, value):\n",
    "    maze = np.array(maze)\n",
    "    for i in range(len(maze)):\n",
    "        for j in range(len(maze[i])):\n",
    "            if maze[i][j] == value:\n",
    "                return (i, j)\n",
    "\n",
    "start_pos = find_pos(maze, 'S')\n",
    "goal_pos = find_pos(maze, 'G')\n",
    "print(\"Start Position:\", start_pos)\n",
    "print(\"Goal Position:\", goal_pos)"
   ]
  },
  {
   "cell_type": "markdown",
   "id": "6a08f103",
   "metadata": {},
   "source": [
    "# Visualize the Maze\n",
    "Use Matplotlib to visualize the maze and mark the start and goal positions."
   ]
  },
  {
   "cell_type": "code",
   "execution_count": 28,
   "id": "d1063803",
   "metadata": {},
   "outputs": [
    {
     "data": {
      "image/png": "[encoded data removed]",
      "text/plain": [
       "<Figure size 640x480 with 1 Axes>"
      ]
     },
     "metadata": {},
     "output_type": "display_data"
    }
   ],
   "source": [
    "# Visualize the Maze\n",
    "grid = np.array(numeric_maze)\n",
    "plt.imshow(grid, cmap='viridis')\n",
    "start = np.argwhere(grid == 2)\n",
    "goal = np.argwhere(grid == 3)\n",
    "\n",
    "for y, x in start:\n",
    "    plt.scatter(x, y, c='g', s=100, marker='o', label='Start')\n",
    "\n",
    "for y, x in goal:\n",
    "    plt.scatter(x, y, c='r', s=100, marker='o', label='Goal')\n",
    "\n",
    "plt.xticks([])\n",
    "plt.yticks([])\n",
    "plt.legend()\n",
    "plt.show()"
   ]
  },
  {
   "cell_type": "markdown",
   "id": "dc52c029",
   "metadata": {},
   "source": [
    "# Find Neighbors\n",
    "Define a function to find valid neighboring cells for a given cell in the maze."
   ]
  },
  {
   "cell_type": "code",
   "execution_count": 29,
   "id": "9933f8a4",
   "metadata": {},
   "outputs": [
    {
     "name": "stdout",
     "output_type": "stream",
     "text": [
      "Neighbors of (9, 9): [(9, 8)]\n"
     ]
    }
   ],
   "source": [
    "# Find Neighbors\n",
    "ROWS = grid.shape[0] - 1\n",
    "COLS = grid.shape[1] - 1\n",
    "\n",
    "def get_neighbours(r, c):\n",
    "    neighbors = []\n",
    "    directions = [(-1, 0), (1, 0), (0, -1), (0, 1)]\n",
    "    for dr, dc in directions:\n",
    "        new_r, new_c = r + dr, c + dc\n",
    "        if 0 <= new_r <= ROWS and 0 <= new_c <= COLS:\n",
    "            if grid[new_r][new_c] != 1:  # Exclude walls\n",
    "                neighbors.append((new_r, new_c))\n",
    "    return neighbors\n",
    "\n",
    "print(\"Neighbors of (9, 9):\", get_neighbours(9, 9))"
   ]
  },
  {
   "cell_type": "markdown",
   "id": "2ca11e2e",
   "metadata": {},
   "source": [
    "# Breadth-First Search (BFS) Implementation\n",
    "Implement the BFS algorithm to find a path from the start to the goal in the maze."
   ]
  },
  {
   "cell_type": "code",
   "execution_count": 30,
   "id": "40bf2a0a",
   "metadata": {},
   "outputs": [
    {
     "name": "stdout",
     "output_type": "stream",
     "text": [
      "Path from Start to Goal: [(0, 0), (0, 1), (0, 2), (0, 3), (1, 3), (2, 3), (2, 4), (2, 5), (2, 6), (3, 6), (4, 6), (4, 5), (4, 4), (4, 3), (4, 2), (4, 1), (5, 1), (6, 1), (6, 2), (6, 3), (6, 4), (6, 5), (6, 6), (6, 7), (7, 7), (7, 8), (8, 8), (9, 8), (9, 9)]\n"
     ]
    }
   ],
   "source": [
    "# Breadth-First Search (BFS) Implementation\n",
    "from collections import deque\n",
    "\n",
    "def bfs(maze, start, goal):\n",
    "    queue = deque([start])\n",
    "    visited = set()\n",
    "    visited.add(start)\n",
    "    parent = {start: None}\n",
    "\n",
    "    while queue:\n",
    "        current = queue.popleft()\n",
    "        if current == goal:\n",
    "            path = []\n",
    "            while current:\n",
    "                path.append(current)\n",
    "                current = parent[current]\n",
    "            return path[::-1]\n",
    "\n",
    "        for neighbor in get_neighbours(*current):\n",
    "            if neighbor not in visited:\n",
    "                visited.add(neighbor)\n",
    "                parent[neighbor] = current\n",
    "                queue.append(neighbor)\n",
    "    return None\n",
    "\n",
    "start_numeric = find_pos(numeric_maze, 2)\n",
    "goal_numeric = find_pos(numeric_maze, 3)\n",
    "path = bfs(numeric_maze, start_numeric, goal_numeric)\n",
    "print(\"Path from Start to Goal:\", path)"
   ]
  },
  {
   "cell_type": "code",
   "execution_count": 31,
   "id": "4b7a45b3",
   "metadata": {},
   "outputs": [
    {
     "data": {
      "image/png": "[encoded data removed]",
      "text/plain": [
       "<Figure size 640x480 with 1 Axes>"
      ]
     },
     "metadata": {},
     "output_type": "display_data"
    }
   ],
   "source": [
    "# Call the above function.\n",
    "# a. The user should be prompted to choose 2 options: “bfs” or “dfs”.\n",
    "# b. If the user inserts uppercase letters, automatically convert them to lowercase.\n",
    "# c. Above function should show the animation. The figure (animation) should close\n",
    "# when the user presses a button (e.g. pressing a “Q” button on the keyboard).\n",
    "\n",
    "\n",
    "\n",
    "# Code implementaion for animation\n",
    "# Visualize the Maze\n",
    "grid = np.array(numeric_maze)\n",
    "plt.imshow(grid, cmap='viridis')\n",
    "start = np.argwhere(grid == 2)\n",
    "goal = np.argwhere(grid == 3)\n",
    "\n",
    "for y, x in start:\n",
    "    plt.scatter(x, y, c='r', s=100, marker='o', label='Start')\n",
    "\n",
    "for y, x in path:\n",
    "    plt.scatter(x, y, c='y', s=100, marker='*')\n",
    "\n",
    "for y, x in goal:\n",
    "    plt.scatter(x, y, c='g', s=100, marker='o', label='Goal')\n",
    "\n",
    "plt.xticks([])\n",
    "plt.yticks([])\n",
    "plt.legend()\n",
    "plt.show()"
   ]
  },
  {
   "cell_type": "code",
   "execution_count": null,
   "id": "88026510",
   "metadata": {},
   "outputs": [],
   "source": []
  }
 ],
 "metadata": {
  "kernelspec": {
   "display_name": ".venv",
   "language": "python",
   "name": "python3"
  },
  "language_info": {
   "codemirror_mode": {
    "name": "ipython",
    "version": 3
   },
   "file_extension": ".py",
   "mimetype": "text/x-python",
   "name": "python",
   "nbconvert_exporter": "python",
   "pygments_lexer": "ipython3",
   "version": "3.10.12"
  }
 },
 "nbformat": 4,
 "nbformat_minor": 5
}
