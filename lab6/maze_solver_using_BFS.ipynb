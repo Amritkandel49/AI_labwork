{
 "cells": [
  {
   "cell_type": "markdown",
   "id": "205139b9",
   "metadata": {},
   "source": [
    "# Import Required Libraries\n",
    "Import necessary libraries such as NumPy and Matplotlib."
   ]
  },
  {
   "cell_type": "code",
   "execution_count": 61,
   "id": "4ea82df3",
   "metadata": {},
   "outputs": [],
   "source": [
    "# Import Required Libraries\n",
    "import numpy as np\n",
    "import matplotlib.pyplot as plt"
   ]
  },
  {
   "cell_type": "markdown",
   "id": "d231f7c7",
   "metadata": {},
   "source": [
    "# Define the Maze\n",
    "Define the maze as a 2D NumPy array with 'S' for start, 'G' for goal, and integers for paths and walls."
   ]
  },
  {
   "cell_type": "code",
   "execution_count": 62,
   "id": "7b879a62",
   "metadata": {},
   "outputs": [
    {
     "data": {
      "text/plain": [
       "array([['0', 'S', '0', '0', '1', '1', '1', '1', '1', '1'],\n",
       "       ['1', '1', '1', '0', '1', '1', '0', '0', '0', '0'],\n",
       "       ['1', '0', '0', '0', '0', '0', '0', '1', '1', '0'],\n",
       "       ['1', '0', '1', '0', '1', '1', '0', '1', '1', '0'],\n",
       "       ['1', '0', '0', '0', '0', '0', '0', '1', '1', '1'],\n",
       "       ['1', '0', '1', '1', '1', '1', '1', '1', '1', '1'],\n",
       "       ['1', '0', '0', '0', '0', '0', '0', '0', '1', '1'],\n",
       "       ['0', '1', '1', '1', '1', '1', '1', '0', '0', '1'],\n",
       "       ['0', '0', '0', '0', '0', '0', '1', '1', '0', '1'],\n",
       "       ['1', '1', '1', '1', '1', '0', '0', '1', '0', 'G']], dtype='<U21')"
      ]
     },
     "execution_count": 62,
     "metadata": {},
     "output_type": "execute_result"
    }
   ],
   "source": [
    "# Define the Maze\n",
    "maze = np.array([\n",
    "    [0, 'S', 0, 0, 1, 1, 1, 1, 1, 1],\n",
    "    [1, 1, 1, 0, 1, 1, 0, 0, 0, 0],\n",
    "    [1, 0, 0, 0, 0, 0, 0, 1, 1, 0],\n",
    "    [1, 0, 1, 0, 1, 1, 0, 1, 1, 0],\n",
    "    [1, 0, 0, 0, 0, 0, 0, 1, 1, 1],\n",
    "    [1, 0, 1, 1, 1, 1, 1, 1, 1, 1],\n",
    "    [1, 0, 0, 0, 0, 0, 0, 0, 1, 1],\n",
    "    [0, 1, 1, 1, 1, 1, 1, 0, 0, 1],\n",
    "    [0, 0, 0, 0, 0, 0, 1, 1, 0, 1],\n",
    "    [1, 1, 1, 1, 1, 0, 0, 1, 0, 'G']\n",
    "])\n",
    "maze"
   ]
  },
  {
   "cell_type": "markdown",
   "id": "ad028673",
   "metadata": {},
   "source": [
    "# Convert Maze to Numeric Grid\n",
    "Create a function to convert the maze into a numeric grid where 'S' becomes 2 and 'G' becomes 3."
   ]
  },
  {
   "cell_type": "code",
   "execution_count": 63,
   "id": "e557b815",
   "metadata": {},
   "outputs": [
    {
     "data": {
      "text/plain": [
       "array([[0, 2, 0, 0, 1, 1, 1, 1, 1, 1],\n",
       "       [1, 1, 1, 0, 1, 1, 0, 0, 0, 0],\n",
       "       [1, 0, 0, 0, 0, 0, 0, 1, 1, 0],\n",
       "       [1, 0, 1, 0, 1, 1, 0, 1, 1, 0],\n",
       "       [1, 0, 0, 0, 0, 0, 0, 1, 1, 1],\n",
       "       [1, 0, 1, 1, 1, 1, 1, 1, 1, 1],\n",
       "       [1, 0, 0, 0, 0, 0, 0, 0, 1, 1],\n",
       "       [0, 1, 1, 1, 1, 1, 1, 0, 0, 1],\n",
       "       [0, 0, 0, 0, 0, 0, 1, 1, 0, 1],\n",
       "       [1, 1, 1, 1, 1, 0, 0, 1, 0, 3]])"
      ]
     },
     "execution_count": 63,
     "metadata": {},
     "output_type": "execute_result"
    }
   ],
   "source": [
    "# Convert Maze to Numeric Grid\n",
    "def to_numeric_grid(maze):\n",
    "    # maze = np.array(maze)\n",
    "    # print(maze)\n",
    "    for i in range(len(maze)):\n",
    "        for j in range(len(maze[i])):\n",
    "            if maze[i][j] == 'S':\n",
    "                maze[i][j] = 2\n",
    "            elif maze[i][j] == 'G':\n",
    "                maze[i][j] = 3\n",
    "            else:\n",
    "                maze[i][j] = maze[i][j]\n",
    "    return maze.astype(int)\n",
    "\n",
    "numeric_maze = to_numeric_grid(maze)\n",
    "numeric_maze"
   ]
  },
  {
   "cell_type": "markdown",
   "id": "11cc2da4",
   "metadata": {},
   "source": [
    "# Find Positions of Start and Goal\n",
    "Implement a function to find the positions of 'S' and 'G' in the maze."
   ]
  },
  {
   "cell_type": "code",
   "execution_count": 64,
   "id": "90cd2b04",
   "metadata": {},
   "outputs": [
    {
     "name": "stdout",
     "output_type": "stream",
     "text": [
      "Start Position: (0, 1)\n",
      "Goal Position: (9, 9)\n"
     ]
    }
   ],
   "source": [
    "# Find Positions of Start and Goal\n",
    "def find_pos(maze, value):\n",
    "    maze = np.array(maze)\n",
    "    for i in range(len(maze)):\n",
    "        for j in range(len(maze[i])):\n",
    "            if maze[i][j] == value:\n",
    "                return (i, j)\n",
    "\n",
    "start_pos = find_pos(numeric_maze, 2)\n",
    "goal_pos = find_pos(numeric_maze, 3)\n",
    "print(\"Start Position:\", start_pos)\n",
    "print(\"Goal Position:\", goal_pos)"
   ]
  },
  {
   "cell_type": "markdown",
   "id": "dc52c029",
   "metadata": {},
   "source": [
    "# Find Neighbors\n",
    "Define a function to find valid neighboring cells for a given cell in the maze."
   ]
  },
  {
   "cell_type": "code",
   "execution_count": 65,
   "id": "9933f8a4",
   "metadata": {},
   "outputs": [
    {
     "name": "stdout",
     "output_type": "stream",
     "text": [
      "Neighbors of (9, 9): [(9, 8)]\n"
     ]
    }
   ],
   "source": [
    "# Find Neighbors\n",
    "grid = np.array(numeric_maze)\n",
    "ROWS = grid.shape[0] - 1\n",
    "COLS = grid.shape[1] - 1\n",
    "\n",
    "def get_neighbours(r, c):\n",
    "    neighbors = []\n",
    "    directions = [(-1, 0), (1, 0), (0, -1), (0, 1)]\n",
    "    for dr, dc in directions:\n",
    "        new_r, new_c = r + dr, c + dc\n",
    "        if 0 <= new_r <= ROWS and 0 <= new_c <= COLS and grid[new_r][new_c] != 1:  # Exclude walls\n",
    "            neighbors.append((new_r, new_c))\n",
    "    return neighbors\n",
    "\n",
    "print(\"Neighbors of (9, 9):\", get_neighbours(9, 9))"
   ]
  },
  {
   "cell_type": "markdown",
   "id": "2ca11e2e",
   "metadata": {},
   "source": [
    "# Breadth-First Search (BFS) Implementation"
   ]
  },
  {
   "cell_type": "code",
   "execution_count": 66,
   "id": "40bf2a0a",
   "metadata": {},
   "outputs": [
    {
     "name": "stdout",
     "output_type": "stream",
     "text": [
      "Path from Start to Goal: [(0, 1), (0, 2), (0, 3), (1, 3), (2, 3), (3, 3), (4, 3), (4, 2), (4, 1), (5, 1), (6, 1), (6, 2), (6, 3), (6, 4), (6, 5), (6, 6), (6, 7), (7, 7), (7, 8), (8, 8), (9, 8), (9, 9)]\n"
     ]
    }
   ],
   "source": [
    "# Breadth-First Search (BFS) Implementation\n",
    "from collections import deque\n",
    "\n",
    "def bfs(maze, start, goal):\n",
    "    queue = deque([start])\n",
    "    visited = set()\n",
    "    visited.add(start)\n",
    "    parent = {start: None}\n",
    "\n",
    "    while queue:\n",
    "        current = queue.popleft()\n",
    "        if current == goal:\n",
    "            path = []\n",
    "            while current:\n",
    "                path.append(current)\n",
    "                current = parent[current]\n",
    "            return path[::-1]\n",
    "\n",
    "        for neighbor in get_neighbours(*current):\n",
    "            if neighbor not in visited:\n",
    "                visited.add(neighbor)\n",
    "                parent[neighbor] = current\n",
    "                queue.append(neighbor)\n",
    "    return None\n",
    "\n",
    "path = bfs(numeric_maze, start_pos, goal_pos)\n",
    "print(\"Path from Start to Goal:\", path)"
   ]
  },
  {
   "cell_type": "markdown",
   "id": "acdffa3b",
   "metadata": {},
   "source": [
    "# DFS Implementation"
   ]
  },
  {
   "cell_type": "code",
   "execution_count": 67,
   "id": "0482e292",
   "metadata": {},
   "outputs": [
    {
     "name": "stdout",
     "output_type": "stream",
     "text": [
      "Path from Start to Goal using DFS: [(0, 1), (0, 2), (0, 3), (1, 3), (2, 3), (2, 4), (2, 5), (2, 6), (3, 6), (4, 6), (4, 5), (4, 4), (4, 3), (4, 2), (4, 1), (5, 1), (6, 1), (6, 2), (6, 3), (6, 4), (6, 5), (6, 6), (6, 7), (7, 7), (7, 8), (8, 8), (9, 8), (9, 9)]\n"
     ]
    },
    {
     "data": {
      "image/png": "[encoded data removed]",
      "text/plain": [
       "<Figure size 640x480 with 1 Axes>"
      ]
     },
     "metadata": {},
     "output_type": "display_data"
    },
    {
     "data": {
      "image/png": "[encoded data removed]",
      "text/plain": [
       "<Figure size 640x480 with 1 Axes>"
      ]
     },
     "metadata": {},
     "output_type": "display_data"
    }
   ],
   "source": [
    "# implementation of DFS\n",
    "from collections import deque\n",
    "def dfs(maze, start, goal):\n",
    "    stack = [start]\n",
    "    visited = set()\n",
    "    visited.add(start)\n",
    "    parent = {start: None}\n",
    "\n",
    "    while stack:\n",
    "        current = stack.pop()\n",
    "        if current == goal:\n",
    "            path = []\n",
    "            while current:\n",
    "                path.append(current)\n",
    "                current = parent[current]\n",
    "            return path[::-1]\n",
    "\n",
    "        for neighbor in get_neighbours(*current):\n",
    "            if neighbor not in visited:\n",
    "                visited.add(neighbor)\n",
    "                parent[neighbor] = current\n",
    "                stack.append(neighbor)\n",
    "    return None\n",
    "path_dfs = dfs(numeric_maze, start_pos, goal_pos)\n",
    "print(\"Path from Start to Goal using DFS:\", path_dfs)\n",
    "# Visualize the Path\n",
    "def visualize_path(maze, path):\n",
    "    grid = np.array(maze)\n",
    "    plt.imshow(grid, cmap='viridis')\n",
    "    \n",
    "    for y, x in path:\n",
    "        plt.scatter(x, y, c='b', s=50, marker='o')\n",
    "\n",
    "    # start = np.argwhere(grid == 2)\n",
    "    # goal = np.argwhere(grid == 3)\n",
    "\n",
    "    for y, x in [start_pos]:\n",
    "        plt.scatter(x, y, c='g', s=100, marker='*', label='Start')\n",
    "\n",
    "    for y, x in [goal_pos]:\n",
    "        plt.scatter(x, y, c='r', s=100, marker='*', label='Goal')\n",
    "\n",
    "    plt.title(\"Path Visualization\")\n",
    "    plt.legend()\n",
    "    plt.show()\n",
    "visualize_path(numeric_maze, path)\n",
    "visualize_path(numeric_maze, path_dfs)  \n"
   ]
  },
  {
   "cell_type": "markdown",
   "id": "4b7a45b3",
   "metadata": {},
   "source": [
    "### Combined function to ask for eith bfs or dfs, maze and give path and visualize"
   ]
  },
  {
   "cell_type": "code",
   "execution_count": 68,
   "id": "88026510",
   "metadata": {},
   "outputs": [],
   "source": [
    "def pipeline(maze, search_alg):\n",
    "    numeric_maze = to_numeric_grid(maze)\n",
    "    start_pos = find_pos(numeric_maze, 2)\n",
    "    goal_pos = find_pos(numeric_maze, 3)\n",
    "\n",
    "    if search_alg == 'bfs':\n",
    "        path = bfs(numeric_maze, start_pos, goal_pos)\n",
    "    elif search_alg == 'dfs':\n",
    "        path = dfs(numeric_maze, start_pos, goal_pos)\n",
    "    else:\n",
    "        raise ValueError(\"Invalid search algorithm. Use 'bfs' or 'dfs'.\")\n",
    "\n",
    "    print(f\"Path from Start to Goal using {search_alg.upper()}: {path}\")\n",
    "    visualize_path(numeric_maze, path)"
   ]
  },
  {
   "cell_type": "code",
   "execution_count": 69,
   "id": "5342b487",
   "metadata": {},
   "outputs": [
    {
     "name": "stdout",
     "output_type": "stream",
     "text": [
      "Path from Start to Goal using DFS: [(0, 1), (0, 2), (0, 3), (1, 3), (2, 3), (2, 4), (2, 5), (2, 6), (3, 6), (4, 6), (4, 5), (4, 4), (4, 3), (4, 2), (4, 1), (5, 1), (6, 1), (6, 2), (6, 3), (6, 4), (6, 5), (6, 6), (6, 7), (7, 7), (7, 8), (8, 8), (9, 8), (9, 9)]\n"
     ]
    },
    {
     "data": {
      "image/png": "[encoded data removed]",
      "text/plain": [
       "<Figure size 640x480 with 1 Axes>"
      ]
     },
     "metadata": {},
     "output_type": "display_data"
    }
   ],
   "source": [
    "\n",
    "search_alg = input(\"Enter search algorithm (bfs/dfs): \").strip().lower()\n",
    "if search_alg not in ['bfs', 'dfs']:\n",
    "    print(\"Invalid input. Please enter 'bfs' or 'dfs'.\")\n",
    "else:\n",
    "    pipeline(maze, search_alg)"
   ]
  },
  {
   "cell_type": "code",
   "execution_count": null,
   "id": "a43c70d8",
   "metadata": {},
   "outputs": [],
   "source": []
  }
 ],
 "metadata": {
  "kernelspec": {
   "display_name": ".venv",
   "language": "python",
   "name": "python3"
  },
  "language_info": {
   "codemirror_mode": {
    "name": "ipython",
    "version": 3
   },
   "file_extension": ".py",
   "mimetype": "text/x-python",
   "name": "python",
   "nbconvert_exporter": "python",
   "pygments_lexer": "ipython3",
   "version": "3.10.12"
  }
 },
 "nbformat": 4,
 "nbformat_minor": 5
}
