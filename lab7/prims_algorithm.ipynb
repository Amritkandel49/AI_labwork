{
 "cells": [
  {
   "cell_type": "code",
   "execution_count": 132,
   "id": "fe48fd8d",
   "metadata": {},
   "outputs": [],
   "source": [
    "import numpy as np\n",
    "import matplotlib.pyplot as plt\n",
    "import random\n",
    "import heapq"
   ]
  },
  {
   "cell_type": "code",
   "execution_count": 133,
   "id": "eeae202c",
   "metadata": {},
   "outputs": [],
   "source": [
    "# def generate_maze(rows, cols):\n",
    "#     if rows % 2 == 0 : rows += 1\n",
    "#     if rows % 2 == 0 : rows += 1\n",
    "\n",
    "#     maze = np.ones((rows, cols), dtype=int)\n",
    "\n",
    "#     def in_bounds(r,c):\n",
    "#         return 0<r<rows-1 and 0 <c<cols - 1\n",
    "    \n",
    "#     def neighbours(r,c):\n",
    "#         directions = [(0, 2), (2, 0), (0, -2), (-2, 0)]\n",
    "#         for dr, dc in directions:\n",
    "#             nr, nc = r + dr, c + dc\n",
    "#             if in_bounds(nr, nc):\n",
    "#                 yield nr, nc\n",
    "\n",
    "#     start_r, start_c = random.randrange(1, rows, 2), random.randrange(1, cols, 2)\n",
    "#     maze[start_r, start_c] = 0\n",
    "\n",
    "#     walls = []\n",
    "\n",
    "#     for nr, nc in neighbours(start_r, start_c):\n",
    "#         walls.append((nr, nc, start_r, start_c))\n",
    "\n",
    "#     while walls:\n",
    "#         r1, c1, r2, c2 = walls.pop(random.randint(0, len(walls) - 1))\n",
    "\n",
    "#         if maze[r2, c2] == 1:\n",
    "#             maze[(r1+r2) // 2, (c1+c2) // 2] = 0\n",
    "#             maze[r2, c2] = 0\n",
    "           \n",
    "\n",
    "#             for nr, nc in neighbours(r2, c2):\n",
    "#                 if maze[nr, nc] == 1:\n",
    "#                     walls.append((nr, nc, r2, c2))\n",
    "\n",
    "#     return maze\n",
    "\n"
   ]
  },
  {
   "cell_type": "code",
   "execution_count": 134,
   "id": "fafe385d",
   "metadata": {},
   "outputs": [],
   "source": [
    "def generate_maze(rows, cols):\n",
    "# Ensure odd dimensions\n",
    "    if rows % 2 == 0: rows += 1\n",
    "    if cols % 2 == 0: cols += 1\n",
    "\n",
    "    maze = np.ones((rows, cols), dtype=int)\n",
    "    start_r = random.randrange(1, rows, 2)\n",
    "    start_c = random.randrange(1, cols, 2)\n",
    "    maze[start_r, start_c] = 0\n",
    "\n",
    "# Frontier walls list: (r1, c1, r2, c2)\n",
    "    walls = []\n",
    "    for dr, dc in [(-2,0),(2,0),(0,-2),(0,2)]:\n",
    "        r2, c2 = start_r + dr, start_c + dc\n",
    "\n",
    "        if 0 <= r2 < rows and 0 <= c2 < cols:\n",
    "            walls.append((start_r, start_c, r2, c2))\n",
    "\n",
    "    while walls:\n",
    "        r1, c1, r2, c2 = walls.pop(np.random.randint(len(walls)))\n",
    "        if maze[r2, c2] == 1:\n",
    "            # Count adjacent passages around (r2,c2)\n",
    "            neigh_passages = 0\n",
    "            for dr, dc in [(-2,0),(2,0),(0,-2),(0,2)]:\n",
    "                rr, cc = r2 + dr, c2 + dc\n",
    "                if 0 <= rr < rows and 0 <= cc < cols and maze[rr, cc] == 0:\n",
    "                    neigh_passages = 0  \n",
    "                    neigh_passages += 1\n",
    "            if neigh_passages == 1:\n",
    "            # Carve wall and cell\n",
    "                mid_r, mid_c = (r1 + r2)//2, (c1 + c2)//2\n",
    "                maze[mid_r, mid_c] = 0\n",
    "                maze[r2, c2] = 0\n",
    "# Add new frontier walls\n",
    "                for dr, dc in [(-2,0),(2,0),(0,-2),(0,2)]:\n",
    "                    nr, nc = r2 + dr, c2 + dc\n",
    "                    if 0 <= nr < rows and 0 <= nc < cols and maze[nr, nc] == 1:\n",
    "                        walls.append((r2, c2, nr, nc))\n",
    "    return maze"
   ]
  },
  {
   "cell_type": "code",
   "execution_count": 135,
   "id": "55df8f87",
   "metadata": {},
   "outputs": [],
   "source": [
    "maze = generate_maze(21, 21)"
   ]
  },
  {
   "cell_type": "code",
   "execution_count": 136,
   "id": "bfb730f4",
   "metadata": {},
   "outputs": [
    {
     "data": {
      "text/plain": [
       "array([[1, 1, 1, 1, 1, 1, 1, 1, 1, 1, 1, 1, 1, 1, 1, 1, 1, 1, 1, 1, 1],\n",
       "       [1, 0, 0, 0, 0, 0, 0, 0, 0, 0, 0, 0, 0, 0, 0, 0, 0, 0, 0, 0, 1],\n",
       "       [1, 1, 1, 1, 1, 1, 1, 0, 1, 0, 1, 1, 1, 0, 1, 1, 1, 1, 1, 1, 1],\n",
       "       [1, 0, 1, 0, 0, 0, 0, 0, 1, 0, 1, 0, 0, 0, 1, 0, 0, 0, 0, 0, 1],\n",
       "       [1, 0, 1, 1, 1, 1, 1, 0, 1, 1, 1, 1, 1, 0, 1, 0, 1, 1, 1, 1, 1],\n",
       "       [1, 0, 0, 0, 0, 0, 0, 0, 1, 0, 0, 0, 0, 0, 0, 0, 0, 0, 0, 0, 1],\n",
       "       [1, 0, 1, 0, 1, 1, 1, 1, 1, 0, 1, 0, 1, 0, 1, 0, 1, 1, 1, 0, 1],\n",
       "       [1, 0, 1, 0, 0, 0, 0, 0, 1, 0, 1, 0, 1, 0, 1, 0, 1, 0, 0, 0, 1],\n",
       "       [1, 0, 1, 1, 1, 0, 1, 1, 1, 1, 1, 0, 1, 0, 1, 0, 1, 0, 1, 1, 1],\n",
       "       [1, 0, 0, 0, 1, 0, 0, 0, 0, 0, 1, 0, 1, 0, 1, 0, 1, 0, 0, 0, 1],\n",
       "       [1, 0, 1, 1, 1, 0, 1, 1, 1, 1, 1, 1, 1, 0, 1, 0, 1, 1, 1, 0, 1],\n",
       "       [1, 0, 0, 0, 1, 0, 0, 0, 0, 0, 1, 0, 1, 0, 1, 0, 1, 0, 1, 0, 1],\n",
       "       [1, 0, 1, 0, 1, 1, 1, 0, 1, 1, 1, 0, 1, 0, 1, 1, 1, 0, 1, 1, 1],\n",
       "       [1, 0, 1, 0, 0, 0, 1, 0, 1, 0, 1, 0, 0, 0, 0, 0, 0, 0, 0, 0, 1],\n",
       "       [1, 0, 1, 1, 1, 1, 1, 0, 1, 0, 1, 1, 1, 0, 1, 1, 1, 1, 1, 0, 1],\n",
       "       [1, 0, 1, 0, 0, 0, 0, 0, 1, 0, 0, 0, 0, 0, 0, 0, 0, 0, 1, 0, 1],\n",
       "       [1, 0, 1, 0, 1, 1, 1, 0, 1, 0, 1, 0, 1, 1, 1, 0, 1, 0, 1, 1, 1],\n",
       "       [1, 0, 1, 0, 1, 0, 0, 0, 1, 0, 1, 0, 0, 0, 1, 0, 1, 0, 0, 0, 1],\n",
       "       [1, 1, 1, 0, 1, 0, 1, 1, 1, 1, 1, 0, 1, 1, 1, 0, 1, 1, 1, 0, 1],\n",
       "       [1, 0, 0, 0, 1, 0, 1, 0, 0, 0, 0, 0, 0, 0, 1, 0, 0, 0, 1, 0, 1],\n",
       "       [1, 1, 1, 1, 1, 1, 1, 1, 1, 1, 1, 1, 1, 1, 1, 1, 1, 1, 1, 1, 1]])"
      ]
     },
     "execution_count": 136,
     "metadata": {},
     "output_type": "execute_result"
    }
   ],
   "source": [
    "def place_start_goal(maze):\n",
    "    rows, cols = maze.shape\n",
    "    start = (1, 1)\n",
    "    goal = (rows - 2, cols - 2)\n",
    "\n",
    "    # Ensure start and goal are not walls\n",
    "    # maze[start] = 2  # Start\n",
    "    # maze[goal] = 3   # Goal\n",
    "\n",
    "    return maze \n",
    "\n",
    "maze = place_start_goal(maze)\n",
    "maze\n",
    "\n",
    "\n"
   ]
  },
  {
   "cell_type": "code",
   "execution_count": 137,
   "id": "1420a807",
   "metadata": {},
   "outputs": [
    {
     "name": "stdout",
     "output_type": "stream",
     "text": [
      "[[1 1 1 1 1 1 1 1 1 1 1 1 1 1 1 1 1 1 1 1 1]\n",
      " [1 0 0 0 0 0 0 0 0 0 0 0 0 0 0 0 0 0 0 0 1]\n",
      " [1 1 1 1 1 1 1 0 1 0 1 1 1 0 1 1 1 1 1 1 1]\n",
      " [1 0 1 0 0 0 0 0 1 0 1 0 0 0 1 0 0 0 0 0 1]\n",
      " [1 0 1 1 1 1 1 0 1 1 1 1 1 0 1 0 1 1 1 1 1]\n",
      " [1 0 0 0 0 0 0 0 1 0 0 0 0 0 0 0 0 0 0 0 1]\n",
      " [1 0 1 0 1 1 1 1 1 0 1 0 1 0 1 0 1 1 1 0 1]\n",
      " [1 0 1 0 0 0 0 0 1 0 1 0 1 0 1 0 1 0 0 0 1]\n",
      " [1 0 1 1 1 0 1 1 1 1 1 0 1 0 1 0 1 0 1 1 1]\n",
      " [1 0 0 0 1 0 0 0 0 0 1 0 1 0 1 0 1 0 0 0 1]\n",
      " [1 0 1 1 1 0 1 1 1 1 1 1 1 0 1 0 1 1 1 0 1]\n",
      " [1 0 0 0 1 0 0 0 0 0 1 0 1 0 1 0 1 0 1 0 1]\n",
      " [1 0 1 0 1 1 1 0 1 1 1 0 1 0 1 1 1 0 1 1 1]\n",
      " [1 0 1 0 0 0 1 0 1 0 1 0 0 0 0 0 0 0 0 0 1]\n",
      " [1 0 1 1 1 1 1 0 1 0 1 1 1 0 1 1 1 1 1 0 1]\n",
      " [1 0 1 0 0 0 0 0 1 0 0 0 0 0 0 0 0 0 1 0 1]\n",
      " [1 0 1 0 1 1 1 0 1 0 1 0 1 1 1 0 1 0 1 1 1]\n",
      " [1 0 1 0 1 0 0 0 1 0 1 0 0 0 1 0 1 0 0 0 1]\n",
      " [1 1 1 0 1 0 1 1 1 1 1 0 1 1 1 0 1 1 1 0 1]\n",
      " [1 0 0 0 1 0 1 0 0 0 0 0 0 0 1 0 0 0 1 0 1]\n",
      " [1 1 1 1 1 1 1 1 1 1 1 1 1 1 1 1 1 1 1 1 1]]\n"
     ]
    },
    {
     "data": {
      "image/png": "[encoded data removed]",
      "text/plain": [
       "<Figure size 640x480 with 1 Axes>"
      ]
     },
     "metadata": {},
     "output_type": "display_data"
    }
   ],
   "source": [
    "# Visualize the Maze\n",
    "grid = np.array(maze)\n",
    "print(grid)\n",
    "plt.imshow(grid, cmap='viridis')\n",
    "start = np.argwhere(grid == 2)\n",
    "goal = np.argwhere(grid == 3)\n",
    "\n",
    "for y, x in [(1,1)]:\n",
    "    plt.scatter(x, y, c='g', s=100, marker='o', label='Start')\n",
    "\n",
    "for y, x in [(19, 19)]:\n",
    "    plt.scatter(x, y, c='r', s=100, marker='o', label='Goal')\n",
    "\n",
    "plt.xticks([])\n",
    "plt.yticks([])\n",
    "plt.legend()\n",
    "plt.show()"
   ]
  },
  {
   "cell_type": "code",
   "execution_count": 138,
   "id": "a307e105",
   "metadata": {},
   "outputs": [
    {
     "name": "stdout",
     "output_type": "stream",
     "text": [
      "Neighbors of (9, 9): [(18, 19)]\n"
     ]
    }
   ],
   "source": [
    "# Find Neighbors\n",
    "ROWS = grid.shape[0] - 1\n",
    "COLS = grid.shape[1] - 1\n",
    "\n",
    "def get_neighbours(r, c):\n",
    "    neighbors = []\n",
    "    directions = [(-1, 0), (1, 0), (0, -1), (0, 1)]\n",
    "    for dr, dc in directions:\n",
    "        new_r, new_c = r + dr, c + dc\n",
    "        if 0 <= new_r <= ROWS and 0 <= new_c <= COLS and grid[new_r][new_c] != 1:  # Exclude walls\n",
    "            neighbors.append((new_r, new_c))\n",
    "    return neighbors\n",
    "\n",
    "print(\"Neighbors of (9, 9):\", get_neighbours(19, 19))"
   ]
  },
  {
   "cell_type": "code",
   "execution_count": 139,
   "id": "54f2b4ab",
   "metadata": {},
   "outputs": [],
   "source": [
    "def heuristic(a, b):\n",
    "    return abs(a[0] - b[0]) + abs(a[1] - b[1])"
   ]
  },
  {
   "cell_type": "code",
   "execution_count": null,
   "id": "2c5ba018",
   "metadata": {},
   "outputs": [],
   "source": [
    "\n",
    "import matplotlib.animation as animation\n",
    "import matplotlib.colors as mcolors\n",
    "\n",
    "#add animation in current function\n",
    "def astar(maze, start, goal):\n",
    "    rows, cols = len(maze), len(maze[0])\n",
    "    pq = []\n",
    "    heapq.heappush(pq, (0 + heuristic(start, goal), 0, start, [start]))  # (f(n), g(n), position, path)\n",
    "    \n",
    "    visited = set()\n",
    "    \n",
    "    while pq:\n",
    "        f, g, current, path = heapq.heappop(pq)\n",
    "\n",
    "        if current == goal:\n",
    "            return path, visited\n",
    "        \n",
    "        if current in visited:\n",
    "            continue\n",
    "        \n",
    "        visited.add(current)\n",
    "\n",
    "        x, y = current\n",
    "        for dx, dy in [(-1,0), (1,0), (0,-1), (0,1)]:  # Up, Down, Left, Right\n",
    "            nx, ny = x + dx, y + dy\n",
    "            if 0 <= nx < rows and 0 <= ny < cols and maze[nx][ny] == 0:\n",
    "                neighbor = (nx, ny)\n",
    "                if neighbor not in visited:\n",
    "                    g = g + 1\n",
    "                    f = g + heuristic(neighbor, goal)\n",
    "                    heapq.heappush(pq, (f, g, neighbor, path + [neighbor]))\n",
    "\n",
    "    return None "
   ]
  },
  {
   "cell_type": "code",
   "execution_count": 141,
   "id": "90a85dfd",
   "metadata": {},
   "outputs": [
    {
     "name": "stdout",
     "output_type": "stream",
     "text": [
      "[(1, 1), (1, 2), (1, 3), (1, 4), (1, 5), (1, 6), (1, 7), (1, 8), (1, 9), (1, 10), (1, 11), (1, 12), (1, 13), (2, 13), (3, 13), (4, 13), (5, 13), (6, 13), (7, 13), (8, 13), (9, 13), (10, 13), (11, 13), (12, 13), (13, 13), (14, 13), (15, 13), (15, 14), (15, 15), (15, 16), (15, 17), (16, 17), (17, 17), (17, 18), (17, 19), (18, 19), (19, 19)]\n"
     ]
    }
   ],
   "source": [
    "start = (1, 1)\n",
    "goal = (19,19)\n",
    "path, visited = astar(maze, start, goal)\n",
    "print(path)\n",
    "# print(\"Path found:\" if 0"
   ]
  },
  {
   "cell_type": "code",
   "execution_count": 142,
   "id": "707e8fb6",
   "metadata": {},
   "outputs": [
    {
     "data": {
      "image/png": "[encoded data removed]",
      "text/plain": [
       "<Figure size 640x480 with 1 Axes>"
      ]
     },
     "metadata": {},
     "output_type": "display_data"
    }
   ],
   "source": [
    "def plot_path(maze, path):          \n",
    "    plt.imshow(maze, cmap='gray', origin='upper')\n",
    "    if path:\n",
    "        x, y = zip(*path)\n",
    "        plt.plot(y, x, marker='o', color='red', linewidth=2, markersize=5)\n",
    "    plt.scatter(start[1], start[0], marker='o', color='green', s=100, label='Start')\n",
    "    plt.scatter(goal[1], goal[0], marker='x', color='blue', s=100, label='Goal')\n",
    "    plt.legend()\n",
    "    plt.title('A* Pathfinding Visualization')\n",
    "    plt.show()\n",
    "plot_path(maze, path)"
   ]
  },
  {
   "cell_type": "code",
   "execution_count": 146,
   "id": "81e730ab",
   "metadata": {},
   "outputs": [
    {
     "data": {
      "image/png": "[encoded data removed]",
      "text/plain": [
       "<Figure size 640x480 with 1 Axes>"
      ]
     },
     "metadata": {},
     "output_type": "display_data"
    },
    {
     "name": "stdout",
     "output_type": "stream",
     "text": [
      "{(3, 7), (12, 13), (5, 7), (5, 13), (3, 13), (14, 13), (17, 15), (1, 6), (17, 18), (19, 15), (1, 3), (1, 9), (1, 12), (1, 18), (13, 14), (1, 15), (15, 14), (13, 17), (15, 17), (7, 13), (18, 19), (3, 9), (5, 6), (3, 6), (5, 15), (17, 17), (1, 2), (9, 13), (2, 7), (1, 5), (1, 11), (11, 13), (19, 17), (1, 8), (1, 14), (15, 13), (2, 13), (13, 13), (1, 17), (13, 16), (6, 13), (16, 15), (15, 16), (18, 15), (4, 7), (5, 5), (4, 13), (15, 12), (5, 14), (1, 1), (17, 19), (19, 16), (1, 4), (10, 13), (8, 13), (2, 9), (1, 7), (1, 13), (1, 10), (1, 16), (13, 15), (1, 19), (16, 17), (15, 15)}\n"
     ]
    }
   ],
   "source": [
    "def plot_path(maze, visited, path):          \n",
    "    plt.imshow(maze, cmap='gray', origin='upper')\n",
    "    for x, y in visited:\n",
    "        plt.plot(y, x, marker='*', color='red', linewidth=2, markersize=5)\n",
    "        if (x, y) in path:\n",
    "            plt.plot(y, x, marker='o', color='yellow', linewidth=2, markersize=5)\n",
    "\n",
    "    plt.scatter(start[1], start[0], marker='o', color='green', s=100, label='Start')\n",
    "    plt.scatter(goal[1], goal[0], marker='x', color='blue', s=100, label='Goal')\n",
    "    plt.legend()\n",
    "    plt.title('A* Pathfinding Visualization')\n",
    "    plt.show()\n",
    "plot_path(maze, visited, path)\n",
    "print(visited)"
   ]
  },
  {
   "cell_type": "code",
   "execution_count": null,
   "id": "234e424c",
   "metadata": {},
   "outputs": [],
   "source": []
  }
 ],
 "metadata": {
  "kernelspec": {
   "display_name": ".venv",
   "language": "python",
   "name": "python3"
  },
  "language_info": {
   "codemirror_mode": {
    "name": "ipython",
    "version": 3
   },
   "file_extension": ".py",
   "mimetype": "text/x-python",
   "name": "python",
   "nbconvert_exporter": "python",
   "pygments_lexer": "ipython3",
   "version": "3.10.12"
  }
 },
 "nbformat": 4,
 "nbformat_minor": 5
}
