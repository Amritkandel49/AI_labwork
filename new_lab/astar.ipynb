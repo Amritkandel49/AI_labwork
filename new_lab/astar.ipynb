{
 "cells": [
  {
   "cell_type": "code",
   "execution_count": 1,
   "id": "aaef1852",
   "metadata": {},
   "outputs": [],
   "source": [
    "import heapq\n",
    "import matplotlib.pyplot as plt"
   ]
  },
  {
   "cell_type": "code",
   "execution_count": 2,
   "id": "2cb76b54",
   "metadata": {},
   "outputs": [],
   "source": [
    "# to define the heuristic function\n",
    "def heuristic(a, b):\n",
    "    return abs(a[0] - b[0]) + abs(a[1] - b[1])"
   ]
  },
  {
   "cell_type": "code",
   "execution_count": 3,
   "id": "5ccf5083",
   "metadata": {},
   "outputs": [],
   "source": [
    "def astar(start, goal, grid):\n",
    "    rows, cols = len(grid), len(grid[0])\n",
    "    open_set = []\n",
    "    heapq.heappush(open_set, (0, start))\n",
    "    came_from = {}\n",
    "    g_score = {start: 0}\n",
    "    f_score = {start: heuristic(start, goal)}\n",
    "\n",
    "    while open_set:\n",
    "        current = heapq.heappop(open_set)[1]\n",
    "\n",
    "        if current == goal:\n",
    "            path = []\n",
    "            while current in came_from:\n",
    "                path.append(current)\n",
    "                current = came_from[current]\n",
    "            return path[::-1]  # Return reversed path\n",
    "\n",
    "        for dx, dy in [(-1, 0), (1, 0), (0, -1), (0, 1)]:\n",
    "            neighbor = (current[0] + dx, current[1] + dy)\n",
    "\n",
    "            if 0 <= neighbor[0] < rows and 0 <= neighbor[1] < cols and grid[neighbor[0]][neighbor[1]] == 0:\n",
    "                tentative_g_score = g_score[current] + 1\n",
    "\n",
    "                if neighbor not in g_score or tentative_g_score < g_score[neighbor]:\n",
    "                    came_from[neighbor] = current\n",
    "                    g_score[neighbor] = tentative_g_score\n",
    "                    f_score[neighbor] = tentative_g_score + heuristic(neighbor, goal)\n",
    "\n",
    "                    if neighbor not in [i[1] for i in open_set]:\n",
    "                        heapq.heappush(open_set, (f_score[neighbor], neighbor))\n",
    "\n",
    "    return []  # Return empty path if no path found"
   ]
  },
  {
   "cell_type": "code",
   "execution_count": 4,
   "id": "eb64bead",
   "metadata": {},
   "outputs": [],
   "source": [
    "maze = [\n",
    "    [0, 0, 0, 0, 0],\n",
    "    [0, 1, 1, 1, 0],\n",
    "    [0, 0, 0, 1, 0],\n",
    "    [0, 1, 0, 0, 0],        \n",
    "    [0, 0, 0, 1, 0],\n",
    "    [0, 0, 0, 0, 0]\n",
    "]"
   ]
  },
  {
   "cell_type": "code",
   "execution_count": 5,
   "id": "9bbb0a78",
   "metadata": {},
   "outputs": [
    {
     "name": "stdout",
     "output_type": "stream",
     "text": [
      "Path found: [(0, 1), (0, 2), (0, 3), (0, 4), (1, 4), (2, 4), (3, 4), (4, 4)]\n"
     ]
    }
   ],
   "source": [
    "start = (0, 0)\n",
    "goal = (4, 4)\n",
    "path = astar(start, goal, maze) \n",
    "print(\"Path found:\", path)  "
   ]
  },
  {
   "cell_type": "code",
   "execution_count": 6,
   "id": "db0866e0",
   "metadata": {},
   "outputs": [
    {
     "data": {
      "image/png": "[encoded data removed]",
      "text/plain": [
       "<Figure size 640x480 with 1 Axes>"
      ]
     },
     "metadata": {},
     "output_type": "display_data"
    }
   ],
   "source": [
    "# to visualize the path\n",
    "def plot_path(maze, path):\n",
    "    plt.imshow(maze, cmap='gray_r')\n",
    "    if path:\n",
    "        x, y = zip(*path)\n",
    "        plt.plot(y, x, marker='o', color='red')\n",
    "    plt.scatter(start[1], start[0], marker='o', color='green', label='Start')\n",
    "    plt.scatter(goal[1], goal[0], marker='x', color='blue', label='Goal')\n",
    "    plt.legend()\n",
    "    plt.show()\n",
    "plot_path(maze, path)"
   ]
  },
  {
   "cell_type": "code",
   "execution_count": null,
   "id": "80d48a45",
   "metadata": {},
   "outputs": [],
   "source": []
  }
 ],
 "metadata": {
  "kernelspec": {
   "display_name": ".venv",
   "language": "python",
   "name": "python3"
  },
  "language_info": {
   "codemirror_mode": {
    "name": "ipython",
    "version": 3
   },
   "file_extension": ".py",
   "mimetype": "text/x-python",
   "name": "python",
   "nbconvert_exporter": "python",
   "pygments_lexer": "ipython3",
   "version": "3.10.12"
  }
 },
 "nbformat": 4,
 "nbformat_minor": 5
}
